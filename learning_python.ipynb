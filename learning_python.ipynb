{
  "nbformat": 4,
  "nbformat_minor": 0,
  "metadata": {
    "colab": {
      "provenance": [],
      "authorship_tag": "ABX9TyPE/HJclLES/Dg9TMxEpXFP",
      "include_colab_link": true
    },
    "kernelspec": {
      "name": "python3",
      "display_name": "Python 3"
    },
    "language_info": {
      "name": "python"
    }
  },
  "cells": [
    {
      "cell_type": "markdown",
      "metadata": {
        "id": "view-in-github",
        "colab_type": "text"
      },
      "source": [
        "<a href=\"https://colab.research.google.com/github/andazi/Python-Programming-A-Comprehensive-Guide-for-Beginners/blob/main/learning_python.ipynb\" target=\"_parent\"><img src=\"https://colab.research.google.com/assets/colab-badge.svg\" alt=\"Open In Colab\"/></a>"
      ]
    },
    {
      "cell_type": "markdown",
      "source": [
        "\n",
        "#**Python Programming: A Comprehensive Guide for Beginners**\n",
        "---\n",
        "##**PREREQUISITES**\n",
        "\n",
        "- No prior programming experience required.\n",
        "- Basic computer literacy and familiarity with using a text editor.\n",
        "- A strong willingness to learn and practice programming concepts."
      ],
      "metadata": {
        "id": "tcC3uPjcQBoF"
      }
    },
    {
      "cell_type": "markdown",
      "source": [
        "\n",
        "\n",
        "##Table of Contents:\n",
        "###1. Introduction to Python\n",
        "   - Why Python?\n",
        "   - Installing Python\n",
        "   - Running Python Programs\n",
        "   - Comment\n",
        "\n",
        "###2. Python Basics\n",
        "   - Variables\n",
        "   - Basic Data Types\n",
        "   - Operators and Expressions\n",
        "   - Input and Output\n",
        "   - Control Flow (Conditionals and Loops)\n",
        "\n",
        "###3. Functions and Modules\n",
        "   - Defining Functions\n",
        "   - Parameters and Return Values\n",
        "   - Modules and Libraries\n",
        "   - Working with External Libraries\n",
        "\n",
        "###4. Data Structures\n",
        "   - Lists and Tuples\n",
        "   - Dictionaries\n",
        "   - Sets\n",
        "   - Strings and String Manipulation\n",
        "\n",
        "###5. Object-Oriented Programming\n",
        "   - Introduction to OOP\n",
        "   - Classes and Objects\n",
        "   - Inheritance and Polymorphism\n",
        "   - Encapsulation and Abstraction\n",
        "\n",
        "###6. File Handling\n",
        "   - Reading and Writing Files\n",
        "   - CSV and JSON Files\n",
        "   - Exception Handling\n",
        "\n",
        "###7. Advanced Topics\n",
        "   - Regular Expressions\n",
        "   - Lambda Functions\n",
        "   - Decorators\n",
        "   - Generators\n",
        "\n",
        "###8. Introduction to Data Science and Web Development\n",
        "   - Data Science with Python\n",
        "   - Machine Learning\n",
        "   - Web Development Basics with Python\n",
        "\n",
        "###9. Final Project\n",
        "   - Applying Python Skills to a Real-World Project\n",
        "\n",
        "Appendices:\n",
        "   - Python Syntax Cheat Sheet https://www.pythoncheatsheet.org/\n",
        "   - Additional Resources https://www.freecodecamp.org\n",
        "   - Glossary of Key Terms\n",
        "\n",
        "---\n",
        "Guidelines for Teaching:\n",
        "- Emphasize hands-on practice and coding exercises to reinforce learning.\n",
        "- Use real-world examples and practical projects to engage learners.\n",
        "- Encourage experimentation and problem-solving skills.\n",
        "- Provide step-by-step explanations and code walkthroughs.\n",
        "- Use visual aids such as diagrams and flowcharts to illustrate concepts.\n",
        "---\n",
        "Goals:\n",
        "- Understand the basic principles of programming.\n",
        "- Learn Python syntax and core concepts.\n",
        "- Develop problem-solving skills and logical thinking.\n",
        "- Gain proficiency in writing efficient and readable Python code.\n",
        "- Explore advanced topics and applications of Python.\n",
        "---\n",
        "Notes:\n",
        "- Provide additional explanations and clarifications for complex concepts.\n",
        "- Include tips and common pitfalls to watch out for.\n",
        "- Encourage code documentation and best practices.\n",
        "- Offer insights into industry trends and practical use cases for Python.\n",
        "\n",
        "**Prerequisites:**\n",
        "- No prior programming experience required.\n",
        "- Basic computer literacy and familiarity with using a text editor.\n",
        "- A strong willingness to learn and practice programming concepts."
      ],
      "metadata": {
        "id": "jF4yPNJiNGrJ"
      }
    },
    {
      "cell_type": "markdown",
      "source": [
        "#**1. Introduction to Python**\n",
        "---\n",
        "**Why Python?**\n",
        "Python is a popular high level language that offers numerous advantages. It is easy to learn for both children and adults.\n",
        ">*so why in details?*\n",
        "\n",
        "\n",
        "\n",
        "1.   Simplicity and Readability: Python is easy to read and understand. The codes is closer to human speech than any other language.\n",
        "\n",
        "The below code looks easy to understand\n",
        "```\n",
        "print(\"I love Python\")\n",
        "\n",
        "```\n",
        "Result\n",
        "```\n",
        "I love Python\n",
        "```\n",
        "1.   Beginner-Friendly: It is easy for all age groups to understand and begin lifes as a programmer.\n",
        "\n",
        "2.   Versatility: I call python **Jack of all trades** since it can be use in wide range of applications such as data science, machine learning, artificial intelligence, web development and many more.\n",
        "3.   Large Community: Python has a large and active community of developers. so many resources and support for easy coding life.\n",
        "4.   Cross-Platform: Python language can be run on any operating system such as Windows, Linus, Mac and others\n",
        "5.    High Demand and Job Opportunities: This is a language that can be use to do various task and the demand for it is high in the job market. Imagine you automating your daily 9 hours job with just few lines of code or writing a code to predict the stocks values.\n",
        "\n",
        "Overall, python's simplicity, versatility and supportive community make it an excellent choice for programming language to learn or teach since its provides a solid foundation to beginners and empowers learners to explore more.\n",
        "\n",
        "\n",
        "---\n",
        "\n",
        "**Installing Python**\n",
        "\n",
        "- To download Python, you need to visit www.python.org, which is the official Python website.\n",
        "- Download the latest version or a version of your choice based on your system requirement.\n",
        "- Install python\n",
        "---\n",
        "<b>We would be using google colab. You can Watch Introduction to Colab https://www.youtube.com/watch?v=inN8seMm7UI to understand the environment</b>\n",
        "\n",
        "\n",
        "\n",
        "---\n",
        "\n",
        "\n",
        "\n",
        "**Running Python Programs**\n",
        "\n",
        "We would be running python program by running a simple command.\n",
        "\n",
        "Run the codes below.\n",
        "\n"
      ],
      "metadata": {
        "id": "OPg3QxyPSOLX"
      }
    },
    {
      "cell_type": "code",
      "source": [
        "print(\"Hello, World\")"
      ],
      "metadata": {
        "colab": {
          "base_uri": "https://localhost:8080/"
        },
        "id": "J3U7BnJwP-eR",
        "outputId": "9d56827e-05dc-4173-be07-9ac7ee6fda6d"
      },
      "execution_count": null,
      "outputs": [
        {
          "output_type": "stream",
          "name": "stdout",
          "text": [
            "Hello, World\n"
          ]
        }
      ]
    },
    {
      "cell_type": "markdown",
      "source": [
        "**Comment**\n",
        "\n",
        "First below we start coding, let get use to commenting line or intructions\n",
        "\n",
        "A comment in Python is a line of text that is ignored by the Python interpreter. Comments are used to explain the code, provide notes for the programmer, or disable parts of the code without deleting them.\n",
        "\n",
        "\n",
        "To write a comment in Python, start the line with a hash mark (`#`). Everything on the line after the hash mark will be ignored by the Python interpreter.\n",
        "\n",
        "```\n",
        "# assign a code\n",
        "print(\"Hello Earth\")\n",
        "```\n",
        "this returns\n",
        "```\n",
        "> Hello, Earth\n",
        "```\n",
        "check this\n",
        "```\n",
        "my first python code, printing \"Hello Earth\"\n",
        "print(\"Hello Earth\")\n",
        "```\n",
        "This returns and error\n",
        "```\n",
        "> File \"<ipython-input-1-4b0d34c5f954>\", line 1\n",
        "    my first python code, printing \"Hello Earth\"\n",
        "       ^\n",
        "SyntaxError: invalid syntax\n",
        "```\n",
        "But we we comment, the intructions\n",
        "```\n",
        "# my first python code, printing \"Hello Earth\"\n",
        "print(\"Hello Earth\")\n",
        "```\n",
        "This returns\n",
        "```\n",
        "> Hello Earth\n",
        "```"
      ],
      "metadata": {
        "id": "bOz-DvgmqoE5"
      }
    },
    {
      "cell_type": "markdown",
      "source": [
        "comment the codes to avoid an error"
      ],
      "metadata": {
        "id": "i2OponCDtPt5"
      }
    },
    {
      "cell_type": "code",
      "source": [
        "Printing my Name\n",
        "print(\"Julius Patya\")"
      ],
      "metadata": {
        "id": "8YFmixaWtMRS"
      },
      "execution_count": null,
      "outputs": []
    },
    {
      "cell_type": "code",
      "source": [
        "This line will not be executed.\n",
        "print(\"This line will not be executed.\")"
      ],
      "metadata": {
        "id": "nk9fdzi9toGn"
      },
      "execution_count": null,
      "outputs": []
    },
    {
      "cell_type": "code",
      "source": [
        "printing a number\n",
        "print(34)"
      ],
      "metadata": {
        "id": "XynLivXJs_6N"
      },
      "execution_count": null,
      "outputs": []
    },
    {
      "cell_type": "markdown",
      "source": [
        "You can be bold and edit some of the codes below and see the results"
      ],
      "metadata": {
        "id": "6NYwrXWmiUW5"
      }
    },
    {
      "cell_type": "code",
      "source": [
        "# change the number 30 to any other age and then run\n",
        "age = 30\n",
        "\n",
        "if age < 13:\n",
        "    print(\"Hello Baby\")\n",
        "elif age < 20:\n",
        "    print(\"Welcome Teenager\")\n",
        "else:\n",
        "    print(\"Hello Adult\")"
      ],
      "metadata": {
        "colab": {
          "base_uri": "https://localhost:8080/"
        },
        "id": "xlI1qqkqh_zg",
        "outputId": "fa3f9f1b-dbf7-424a-fc01-fa537789fcaa"
      },
      "execution_count": 2,
      "outputs": [
        {
          "output_type": "stream",
          "name": "stdout",
          "text": [
            "Hello Adult\n"
          ]
        }
      ]
    },
    {
      "cell_type": "markdown",
      "source": [
        "###2. Python Basics\n",
        "---\n",
        "\n",
        "**Variables and Data Types**\n",
        "\n",
        "*What are variable?*\n",
        "\n",
        "A variable is a container that can be use to store data or values. They can be use to store different types of data. These variables can then be used later in the program.\n",
        "\n",
        "We use the **=** sign to store values to a variable.\n",
        "\n",
        "For example, you can declare a variable named \"`my_name`\" and store the value \"`Andazi Boboye`\" in it:\n",
        "\n",
        "code:\n",
        "```\n",
        "my_name = \"Andazi Boboye\"\n",
        "print(my_name)\n",
        "```\n",
        "result:\n",
        "```\n",
        "Andazi Boboye\n",
        "```"
      ],
      "metadata": {
        "id": "ePcAEbubjPe-"
      }
    },
    {
      "cell_type": "code",
      "source": [
        "# we would create a variable called favorite_song and assign it to the string(value) \"Another love by Tom Odell\"\n",
        "# print favorite_song\n",
        "favorite_song = \"Another love by Tom Odell\""
      ],
      "metadata": {
        "id": "3eI0W0RkpvWu"
      },
      "execution_count": null,
      "outputs": []
    },
    {
      "cell_type": "markdown",
      "source": [
        "\n",
        "**Here are some tips for naming variables:**\n",
        "\n",
        "-   Use meaningful names that describe the data that the variable stores. This helps make code more readable and understandable.\n",
        "```\n",
        "# Good variable name\n",
        "name = \"JACK SPARROW\"\n",
        "age = 39\n",
        "is_pirate = True\n",
        "```\n",
        "-   Avoid using special characters or spaces in variable names.\n",
        "```\n",
        "# WRONG VARIABLE NAME\n",
        "first name = \"Andazi Ahmed\"\n",
        "percent% = 100\n",
        "```\n",
        "-   Use underscores to separate words in variable names.\n",
        "```\n",
        "first_name = \"Priya\"\n",
        "last_name = \"Andazi\"\n",
        "student_grades = \"A\"\n",
        "get_access_code = \"23sd89@3SA%$&W\"\n",
        "```\n",
        "-   Start variable names with a lowercase letter.\n",
        "```\n",
        "# wrong case\n",
        "My_name = \"Li Ming\"\n",
        "Age = 23\n",
        "FIRST_NAME = \"Pablo\"\n",
        "```\n",
        "```\n",
        "#correction\n",
        "my_name = \"Li Ming\"\n",
        "age = 23\n",
        "first_name = \"Pablo\"\n",
        "```\n",
        "-    Avoid reserved keywords: A reserved keyword is a word that has a special meaning such as:\n",
        "```\n",
        "and\n",
        "as\n",
        "assert\n",
        "break\n",
        "class\n",
        "continue\n",
        "def\n",
        "del\n",
        "elif\n",
        "else\n",
        "except\n",
        "finally\n",
        "for\n",
        "from\n",
        "global\n",
        "if\n",
        "import\n",
        "in\n",
        "is\n",
        "lambda\n",
        "nonlocal\n",
        "not\n",
        "or\n",
        "pass\n",
        "raise\n",
        "return\n",
        "try\n",
        "while\n",
        "with\n",
        "yield\n",
        "```\n",
        "As we keep coding we would uncover some of them.\n",
        "Dont worry, python would tell you if you are using a reserve keyword or not.\n",
        "\n",
        "Therefore you cant write and run the below codes\n",
        "\n",
        "You can run the code below to see the errors"
      ],
      "metadata": {
        "id": "qNeNI6bv5zXy"
      }
    },
    {
      "cell_type": "markdown",
      "source": [
        "Change the daclaration to `total_yield` and run the below `code`"
      ],
      "metadata": {
        "id": "PKZSOG_z6RIe"
      }
    },
    {
      "cell_type": "code",
      "source": [
        "#reserved keyword\n",
        "yield = 35\n",
        "print(yield)"
      ],
      "metadata": {
        "id": "3xVdmHTQ5-sw"
      },
      "execution_count": null,
      "outputs": []
    },
    {
      "cell_type": "markdown",
      "source": [
        "**EXERCISE**"
      ],
      "metadata": {
        "id": "D3UnwOtRqdSt"
      }
    },
    {
      "cell_type": "code",
      "source": [
        "# edit the cell\n",
        "# declare a variable names birth_year and assign it to value 2000\n",
        "# print birth_year"
      ],
      "metadata": {
        "id": "SYYLJu29pVXQ"
      },
      "execution_count": null,
      "outputs": []
    },
    {
      "cell_type": "code",
      "source": [
        "# edit the cell\n",
        "# declare a variable names current_year and assign it to value 2023\n",
        "# print current_year"
      ],
      "metadata": {
        "id": "IpV5yuxkqm7V"
      },
      "execution_count": null,
      "outputs": []
    },
    {
      "cell_type": "code",
      "source": [
        "# edit the cell\n",
        "# declare a variable names best_course and assign it to value \"Python\"\n",
        "# print birth_year"
      ],
      "metadata": {
        "id": "QQqk0hpzqlpy"
      },
      "execution_count": null,
      "outputs": []
    },
    {
      "cell_type": "markdown",
      "source": [
        "you should have completed the above exercise\n",
        "\n",
        "_Dont worry if it still confusing, I still reply bonjour to any sentence in my French class_"
      ],
      "metadata": {
        "id": "I91nJ1-YrNij"
      }
    },
    {
      "cell_type": "markdown",
      "source": [
        "---\n",
        "**Basic Data Types**\n",
        "\n",
        "\n",
        "In Python, data types represent the kind of data that can be stored and manipulated in a program. Python has several built-in data types that serve different purposes and allow you to work with various kinds of data. Understanding data types is crucial for writing effective and robust Python programs. Let's explore the commonly used data types:\n",
        "\n",
        "---"
      ],
      "metadata": {
        "id": "iC-SjB8wytgo"
      }
    },
    {
      "cell_type": "markdown",
      "source": [
        "\n",
        "***Numeric Data Types***\n",
        "- **int**: Represents integer values without any decimal points. For example, `42`, `-10`, `0`.\n",
        "\n"
      ],
      "metadata": {
        "id": "-iXu9xUrxqWz"
      }
    },
    {
      "cell_type": "code",
      "source": [
        "# The below value is an integer\n",
        "age = 18\n",
        "\n",
        "# height in feet\n",
        "height = 6"
      ],
      "metadata": {
        "id": "Y-TbadNY88e-"
      },
      "execution_count": null,
      "outputs": []
    },
    {
      "cell_type": "markdown",
      "source": [
        "**Exercise**"
      ],
      "metadata": {
        "id": "Pc2Gh0BD9XVE"
      }
    },
    {
      "cell_type": "code",
      "source": [
        "# Create 10 different integers"
      ],
      "metadata": {
        "id": "6cxJZXGa9aVt"
      },
      "execution_count": null,
      "outputs": []
    },
    {
      "cell_type": "markdown",
      "source": [
        "- **float**: Represents floating-point or decimal values with a fractional part. For example, `3.14`, `-0.5`, `2.0`."
      ],
      "metadata": {
        "id": "_QHjzjIh81DH"
      }
    },
    {
      "cell_type": "code",
      "source": [
        "# The below value is an integer\n",
        "ratings = 4.5\n",
        "\n",
        "# height in feet\n",
        "height = 6.2"
      ],
      "metadata": {
        "id": "Ck8pA2oT9O3g"
      },
      "execution_count": null,
      "outputs": []
    },
    {
      "cell_type": "markdown",
      "source": [
        "**Exercise**\n"
      ],
      "metadata": {
        "id": "iTeQZCBl9hhW"
      }
    },
    {
      "cell_type": "code",
      "source": [
        "# Create 10 different floats"
      ],
      "metadata": {
        "id": "TIxPds1L9ksH"
      },
      "execution_count": null,
      "outputs": []
    },
    {
      "cell_type": "markdown",
      "source": [
        "\n",
        "***Boolean Data Type***\n",
        "- **bool**: Represents Boolean values that can be either `True` or `False`. Booleans are commonly used in logical operations and conditional statements.\n",
        "\n",
        "Boolean represent when something or a result has to options only.\n",
        "\n",
        "```\n",
        "is_happy = True\n",
        "is_happy = False\n",
        "```\n",
        "They are commonly use in programming to make decisions and control the flow.\n",
        "\n",
        "control the flow, means if a condition is `True` then `do this` else `do that`\n",
        "\n"
      ],
      "metadata": {
        "id": "y_juYPEUwh1J"
      }
    },
    {
      "cell_type": "code",
      "source": [
        "# Boolean and controlling the flow\n",
        "# Run the below code\n",
        "is_adult = True\n",
        "if is_adult:\n",
        "    print(\"Welcome to Netflix\")\n",
        "else:\n",
        "    print(\"Please, Enter pin\")"
      ],
      "metadata": {
        "colab": {
          "base_uri": "https://localhost:8080/"
        },
        "id": "LYi3s5tqzkF1",
        "outputId": "a65d4632-c45a-4e53-9911-e9e038d1a2f4"
      },
      "execution_count": 3,
      "outputs": [
        {
          "output_type": "stream",
          "name": "stdout",
          "text": [
            "Welcome to Netflix\n"
          ]
        }
      ]
    },
    {
      "cell_type": "markdown",
      "source": [
        "**Exercise**"
      ],
      "metadata": {
        "id": "YQ6PVmWr5gqj"
      }
    },
    {
      "cell_type": "code",
      "source": [
        "# check this out\n",
        "\n",
        "# assign a value to age\n",
        "# change the value to random values of your choose\n",
        "age = 21\n",
        "\n",
        "#logical flow\n",
        "#checking if age is greater the 17\n",
        "\n",
        "if age > 17:\n",
        "    # do this\n",
        "    print(\"You are an adult\")\n",
        "    print(\"You need to start paying Tax\")\n",
        "else:\n",
        "    print(\"Come take your Allowance for the Week\")"
      ],
      "metadata": {
        "colab": {
          "base_uri": "https://localhost:8080/"
        },
        "id": "NqF8RhAH0KVF",
        "outputId": "3762f461-3743-46e7-d89c-7899f1f4be98"
      },
      "execution_count": 4,
      "outputs": [
        {
          "output_type": "stream",
          "name": "stdout",
          "text": [
            "You are an adult\n",
            "You need to start paying Tax\n"
          ]
        }
      ]
    },
    {
      "cell_type": "markdown",
      "source": [
        "Like we concluded earliar, that `Booleans` can either be `True` or `False`\n",
        "\n",
        "Please note that `True` is not the same as `true` or `TRUE`\n",
        "`False` is not the same as `false` or `false`\n",
        "\n",
        "`True` and `False` is a `boolean`\n",
        "`true`, `TRUE`, `false`, `FALSE` or any form of variation that is not `True` is not a `boolean`\n",
        "\n",
        "---\n"
      ],
      "metadata": {
        "id": "ZF6L-hEK1C5E"
      }
    },
    {
      "cell_type": "markdown",
      "source": [
        "\n",
        "***Sequence Data Types***\n",
        "- **str**: Represents a sequence of characters enclosed in single quotes (`'`) or double quotes (`\"`). For example, `'Hello'`, `\"Python\"`.\n",
        "\n",
        "A value is a `String` if it is enclose in either single qoute `''`\n",
        "or double qoutes `\"\"`\n",
        "\n",
        "examples:\n",
        "\n",
        "`\"Andazi\"`, `'Andazi'` are both `string`\n",
        "\n",
        "`\"26\"`, `'90.45'`, `'-234.45'` are all strings due to the quotes enclosure\n",
        "\n",
        "just like `26`, `90.45`, `-234.45` are not `Strings`\n"
      ],
      "metadata": {
        "id": "nPq-56bhxFC5"
      }
    },
    {
      "cell_type": "code",
      "source": [
        "a = \"23\""
      ],
      "metadata": {
        "colab": {
          "base_uri": "https://localhost:8080/"
        },
        "id": "62BW7TLb285k",
        "outputId": "e6826b0b-d88e-4a52-d85f-b16bdbcac142"
      },
      "execution_count": 6,
      "outputs": [
        {
          "output_type": "execute_result",
          "data": {
            "text/plain": [
              "str"
            ]
          },
          "metadata": {},
          "execution_count": 6
        }
      ]
    },
    {
      "cell_type": "markdown",
      "source": [
        "**Exercise**"
      ],
      "metadata": {
        "id": "2uIrIHHB44jl"
      }
    },
    {
      "cell_type": "code",
      "source": [
        "# create a 10 diffrent strings"
      ],
      "metadata": {
        "id": "dPGgwO3H4y8y"
      },
      "execution_count": null,
      "outputs": []
    },
    {
      "cell_type": "markdown",
      "source": [
        "- **list**: Represents an ordered collection of items enclosed in square brackets (`[]`).\n",
        "\n",
        "Lists can contain elements of different data types and can be modified (mutable). For example, `[1, 2, 'three', True]`."
      ],
      "metadata": {
        "id": "-11x9aEo2cOd"
      }
    },
    {
      "cell_type": "markdown",
      "source": [
        "Lets create an empty List\n",
        "```\n",
        "names = []\n",
        "```"
      ],
      "metadata": {
        "id": "a5PRZjVA6sCy"
      }
    },
    {
      "cell_type": "code",
      "source": [
        "# Run the below code\n",
        "names = []\n",
        "print(names)"
      ],
      "metadata": {
        "colab": {
          "base_uri": "https://localhost:8080/"
        },
        "id": "0WrBcQym6ymU",
        "outputId": "6081ddc1-4674-4a2d-cf49-ce2ee10c8c31"
      },
      "execution_count": 13,
      "outputs": [
        {
          "output_type": "stream",
          "name": "stdout",
          "text": [
            "[]\n"
          ]
        }
      ]
    },
    {
      "cell_type": "markdown",
      "source": [
        "Creating a List of Strings\n"
      ],
      "metadata": {
        "id": "-OLz9za668Dk"
      }
    },
    {
      "cell_type": "code",
      "source": [
        "female_names = [\"anna\", \"sinla\", \"ebimo\", \"ebi\", \"india\", \"maryjane\", \"blessing\", \"mary\", \"precious\", \"stella\"]\n",
        "print(female_names)"
      ],
      "metadata": {
        "colab": {
          "base_uri": "https://localhost:8080/"
        },
        "id": "9ngMt86A7c-K",
        "outputId": "b5c6d9b4-8e5b-4b81-995c-24d7c51e290d"
      },
      "execution_count": 14,
      "outputs": [
        {
          "output_type": "stream",
          "name": "stdout",
          "text": [
            "['anna', 'sinla', 'ebimo', 'ebi', 'india', 'maryjane', 'blessing', 'mary', 'precious', 'stella']\n"
          ]
        }
      ]
    },
    {
      "cell_type": "code",
      "source": [
        "football_clubs = ['Real Madrid', 'FC Barcelona', 'Manchester United', 'Liverpool', 'Paris Saint-Germain', 'FC Bayern Munich', 'Arsenal', 'Tottenham Hotspur', 'Chelsea', 'Juventus', 'Club Atlético de Madrid', 'Borussia Dortmund', 'FC Internazionale Milano', 'AC Milan', 'Manchester City', 'Atlético Madrid', 'Sevilla FC', 'West Ham United', 'SSC Napoli', 'RasenBallsport Leipzig', 'Aston Villa', 'AS Roma', 'Eintracht Frankfurt', 'Everton', 'Olympique de Marseille', 'Valencia CF', 'Benfica', 'Porto', 'Ajax', 'Sporting CP', 'Shakhtar Donetsk', 'Dynamo Kyiv', 'Club América', 'Flamengo', 'Palmeiras', 'Santos', 'River Plate', 'Boca Juniors']\n",
        "print(football_clubs)"
      ],
      "metadata": {
        "colab": {
          "base_uri": "https://localhost:8080/"
        },
        "id": "txz63hxT66-E",
        "outputId": "e2e79c0b-7fde-4ab0-c335-2a691fe38e94"
      },
      "execution_count": 17,
      "outputs": [
        {
          "output_type": "stream",
          "name": "stdout",
          "text": [
            "['Real Madrid', 'FC Barcelona', 'Manchester United', 'Liverpool', 'Paris Saint-Germain', 'FC Bayern Munich', 'Arsenal', 'Tottenham Hotspur', 'Chelsea', 'Juventus', 'Club Atlético de Madrid', 'Borussia Dortmund', 'FC Internazionale Milano', 'AC Milan', 'Manchester City', 'Atlético Madrid', 'Sevilla FC', 'West Ham United', 'SSC Napoli', 'RasenBallsport Leipzig', 'Aston Villa', 'AS Roma', 'Eintracht Frankfurt', 'Everton', 'Olympique de Marseille', 'Valencia CF', 'Benfica', 'Porto', 'Ajax', 'Sporting CP', 'Shakhtar Donetsk', 'Dynamo Kyiv', 'Club América', 'Flamengo', 'Palmeiras', 'Santos', 'River Plate', 'Boca Juniors']\n"
          ]
        }
      ]
    },
    {
      "cell_type": "markdown",
      "source": [
        "Creating a List of Numbers"
      ],
      "metadata": {
        "id": "XJ_2d4NZ8RTv"
      }
    },
    {
      "cell_type": "code",
      "source": [
        "years = [1810, 1867, 1982, 1917, 1943, 1815, 1749, 1975, 1892, 1976, 1968, 1866, 1888, 1920, 1777, 1858, 1911, 1999, 1802, 1904, 1997, 1848, 1993, 1742, 1956, 1790, 1959, 1963, 1952, 1835, 1863, 1957, 1899]\n",
        "print(years)"
      ],
      "metadata": {
        "id": "g3gOXBRl8B_t"
      },
      "execution_count": null,
      "outputs": []
    },
    {
      "cell_type": "code",
      "source": [
        "percent = [1.0, 2.0, 3.0, 4.0, 50.7, 67.3]\n",
        "print(percent)"
      ],
      "metadata": {
        "id": "NYfs2yko8XaE"
      },
      "execution_count": null,
      "outputs": []
    },
    {
      "cell_type": "markdown",
      "source": [
        "\n",
        "***Mapping Data Type***\n",
        "- **dict**: Represents a collection of key-value pairs enclosed in curly braces (`{}`). Dictionaries are unordered, mutable, and use unique keys to access their values. For example, `{'name': 'John', 'age': 25, 'city': 'New York'}`.\n",
        "\n"
      ],
      "metadata": {
        "id": "ZnV5_S3wxL6x"
      }
    },
    {
      "cell_type": "markdown",
      "source": [
        "***Set Data Type***\n",
        "- **set**: Represents an unordered collection of unique elements enclosed in curly braces (`{}`). Sets do not allow duplicate values. For example, `{1, 2, 3, 4, 5}`.\n"
      ],
      "metadata": {
        "id": "JFHg7ou1xP6z"
      }
    },
    {
      "cell_type": "markdown",
      "source": [
        "\n",
        "***Tuple Data Type***\n",
        "- **tuple**: Represents an ordered collection of elements enclosed in parentheses (`()`). Tuples are similar to lists but are immutable (cannot be modified). For example, `(1, 'two', True)`.\n"
      ],
      "metadata": {
        "id": "IELY-XARxTKz"
      }
    },
    {
      "cell_type": "markdown",
      "source": [
        "\n",
        "***None Type***\n",
        "- **None**: Represents a special type that indicates the absence of a value or a null value. It is often used to represent variables that don't have a value assigned yet.\n",
        "\n"
      ],
      "metadata": {
        "id": "EdmiY07LxV7R"
      }
    },
    {
      "cell_type": "markdown",
      "source": [
        "**Checking the datatypes**"
      ],
      "metadata": {
        "id": "wGAbQeTF3mAF"
      }
    },
    {
      "cell_type": "code",
      "source": [
        "# Examples of data types\n",
        "my_name = 'John'\n",
        "my_age = 30\n",
        "temperature = 25.5\n",
        "is_raining = True\n",
        "my_list = [1, 2, 3]\n",
        "my_dict = {'name': 'John', 'age': 30}\n",
        "my_set = {1, 2, 3}\n",
        "my_tuple = (1, 'two', True)\n",
        "nothing = None\n",
        "\n"
      ],
      "metadata": {
        "id": "Z6gCAYRS3vA8"
      },
      "execution_count": 11,
      "outputs": []
    },
    {
      "cell_type": "code",
      "source": [
        "# checking datatypes\n",
        "type(my_name)"
      ],
      "metadata": {
        "colab": {
          "base_uri": "https://localhost:8080/"
        },
        "id": "pF4IhO4H37xa",
        "outputId": "f64e222c-a309-4be9-de79-87ac7cd47808"
      },
      "execution_count": 8,
      "outputs": [
        {
          "output_type": "execute_result",
          "data": {
            "text/plain": [
              "str"
            ]
          },
          "metadata": {},
          "execution_count": 8
        }
      ]
    },
    {
      "cell_type": "code",
      "source": [
        "type(my_age)"
      ],
      "metadata": {
        "colab": {
          "base_uri": "https://localhost:8080/"
        },
        "id": "MVPkAgqz4Gwl",
        "outputId": "bdfdfd92-d76f-4cbd-cff2-658bb74783b8"
      },
      "execution_count": 12,
      "outputs": [
        {
          "output_type": "execute_result",
          "data": {
            "text/plain": [
              "int"
            ]
          },
          "metadata": {},
          "execution_count": 12
        }
      ]
    },
    {
      "cell_type": "markdown",
      "source": [
        "\n",
        "***Understanding and utilizing these data types will enable you to work with different kinds of data effectively. Python is a dynamically typed language, which means you don't need to explicitly declare the data type of a variable. The data type is inferred based on the value assigned to the variable.***\n"
      ],
      "metadata": {
        "id": "o0XvRiE_xZ6T"
      }
    },
    {
      "cell_type": "markdown",
      "source": [
        "---\n",
        "\n",
        "**Operators and Expressions**\n",
        "\n",
        "---\n"
      ],
      "metadata": {
        "id": "ALs0mktmmZys"
      }
    },
    {
      "cell_type": "code",
      "source": [],
      "metadata": {
        "id": "nvVfwxrOmdUJ"
      },
      "execution_count": null,
      "outputs": []
    },
    {
      "cell_type": "markdown",
      "source": [
        "\n",
        "**Input and Output**\n",
        "\n",
        "---\n"
      ],
      "metadata": {
        "id": "dW0ZrHURmdx2"
      }
    },
    {
      "cell_type": "code",
      "source": [],
      "metadata": {
        "id": "qIfHXC5Smf2r"
      },
      "execution_count": null,
      "outputs": []
    },
    {
      "cell_type": "markdown",
      "source": [
        "\n",
        "**Control Flow (Conditionals and Loops)**"
      ],
      "metadata": {
        "id": "yx9CPi5ImgOp"
      }
    }
  ]
}