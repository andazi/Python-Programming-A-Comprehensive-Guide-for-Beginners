{
  "cells": [
    {
      "cell_type": "markdown",
      "metadata": {
        "id": "view-in-github",
        "colab_type": "text"
      },
      "source": [
        "<a href=\"https://colab.research.google.com/github/andazi/Python-Programming-A-Comprehensive-Guide-for-Beginners/blob/main/learning_python.ipynb\" target=\"_parent\"><img src=\"https://colab.research.google.com/assets/colab-badge.svg\" alt=\"Open In Colab\"/></a>"
      ]
    },
    {
      "cell_type": "markdown",
      "metadata": {
        "id": "tcC3uPjcQBoF"
      },
      "source": [
        "\n",
        "#**Python Programming: A Comprehensive Guide for Beginners**\n",
        "---\n",
        "##**PREREQUISITES**\n",
        "\n",
        "- No prior programming experience required.\n",
        "- Basic computer literacy and familiarity with using a text editor.\n",
        "- A strong willingness to learn and practice programming concepts."
      ]
    },
    {
      "cell_type": "markdown",
      "metadata": {
        "id": "jF4yPNJiNGrJ"
      },
      "source": [
        "\n",
        "\n",
        "##Table of Contents:\n",
        "###1. Introduction to Python\n",
        "   - Why Python?\n",
        "   - Installing Python\n",
        "   - Running Python Programs\n",
        "   - Comment\n",
        "\n",
        "###2. Python Basics\n",
        "   - Variables\n",
        "   - Basic Data Types\n",
        "   - Operators and Expressions\n",
        "   - Input and Output\n",
        "   - Control Flow (Conditionals and Loops)\n",
        "\n",
        "###3. Functions and Modules\n",
        "   - Defining Functions\n",
        "   - Parameters and Return Values\n",
        "   - Modules and Libraries\n",
        "   - Working with External Libraries\n",
        "\n",
        "###4. Data Structures\n",
        "   - Lists and Tuples\n",
        "   - Dictionaries\n",
        "   - Sets\n",
        "   - Strings and String Manipulation\n",
        "\n",
        "###5. Object-Oriented Programming\n",
        "   - Introduction to OOP\n",
        "   - Classes and Objects\n",
        "   - Inheritance and Polymorphism\n",
        "   - Encapsulation and Abstraction\n",
        "\n",
        "###6. File Handling\n",
        "   - Reading and Writing Files\n",
        "   - CSV and JSON Files\n",
        "   - Exception Handling\n",
        "\n",
        "###7. Advanced Topics\n",
        "   - Regular Expressions\n",
        "   - Lambda Functions\n",
        "   - Decorators\n",
        "   - Generators\n",
        "\n",
        "###8. Introduction to Data Science and Web Development\n",
        "   - Data Science with Python\n",
        "   - Machine Learning\n",
        "   - Web Development Basics with Python\n",
        "\n",
        "###9. Final Project\n",
        "   - Applying Python Skills to a Real-World Project\n",
        "\n",
        "Appendices:\n",
        "   - Python Syntax Cheat Sheet https://www.pythoncheatsheet.org/\n",
        "   - Additional Resources https://www.freecodecamp.org\n",
        "   - Glossary of Key Terms\n",
        "\n",
        "---\n",
        "Guidelines for Teaching:\n",
        "- Emphasize hands-on practice and coding exercises to reinforce learning.\n",
        "- Use real-world examples and practical projects to engage learners.\n",
        "- Encourage experimentation and problem-solving skills.\n",
        "- Provide step-by-step explanations and code walkthroughs.\n",
        "- Use visual aids such as diagrams and flowcharts to illustrate concepts.\n",
        "---\n",
        "Goals:\n",
        "- Understand the basic principles of programming.\n",
        "- Learn Python syntax and core concepts.\n",
        "- Develop problem-solving skills and logical thinking.\n",
        "- Gain proficiency in writing efficient and readable Python code.\n",
        "- Explore advanced topics and applications of Python.\n",
        "---\n",
        "Notes:\n",
        "- Provide additional explanations and clarifications for complex concepts.\n",
        "- Include tips and common pitfalls to watch out for.\n",
        "- Encourage code documentation and best practices.\n",
        "- Offer insights into industry trends and practical use cases for Python.\n",
        "\n",
        "**Prerequisites:**\n",
        "- No prior programming experience required.\n",
        "- Basic computer literacy and familiarity with using a text editor.\n",
        "- A strong willingness to learn and practice programming concepts."
      ]
    },
    {
      "cell_type": "markdown",
      "metadata": {
        "id": "OPg3QxyPSOLX"
      },
      "source": [
        "#**1. Introduction to Python**\n",
        "---\n",
        "**Why Python?**\n",
        "Python is a popular high level language that offers numerous advantages. It is easy to learn for both children and adults.\n",
        ">*so why in details?*\n",
        "\n",
        "\n",
        "\n",
        "1.   Simplicity and Readability: Python is easy to read and understand. The codes is closer to human speech than any other language.\n",
        "\n",
        "The below code looks easy to understand\n",
        "```\n",
        "print(\"I love Python\")\n",
        "\n",
        "```\n",
        "Result\n",
        "```\n",
        "I love Python\n",
        "```\n",
        "1.   Beginner-Friendly: It is easy for all age groups to understand and begin lifes as a programmer.\n",
        "\n",
        "2.   Versatility: I call python **Jack of all trades** since it can be use in wide range of applications such as data science, machine learning, artificial intelligence, web development and many more.\n",
        "3.   Large Community: Python has a large and active community of developers. so many resources and support for easy coding life.\n",
        "4.   Cross-Platform: Python language can be run on any operating system such as Windows, Linus, Mac and others\n",
        "5.    High Demand and Job Opportunities: This is a language that can be use to do various task and the demand for it is high in the job market. Imagine you automating your daily 9 hours job with just few lines of code or writing a code to predict the stocks values.\n",
        "\n",
        "Overall, python's simplicity, versatility and supportive community make it an excellent choice for programming language to learn or teach since its provides a solid foundation to beginners and empowers learners to explore more.\n",
        "\n",
        "\n",
        "---\n",
        "\n",
        "**Installing Python**\n",
        "\n",
        "- To download Python, you need to visit www.python.org, which is the official Python website.\n",
        "- Download the latest version or a version of your choice based on your system requirement.\n",
        "- Install python\n",
        "---\n",
        "<b>We would be using google colab. You can Watch Introduction to Colab https://www.youtube.com/watch?v=inN8seMm7UI to understand the environment</b>\n",
        "\n",
        "\n",
        "\n",
        "---\n",
        "\n",
        "\n",
        "\n",
        "**Running Python Programs**\n",
        "\n",
        "We would be running python program by running a simple command.\n",
        "\n",
        "Run the codes below.\n",
        "\n"
      ]
    },
    {
      "cell_type": "code",
      "execution_count": null,
      "metadata": {
        "colab": {
          "base_uri": "https://localhost:8080/"
        },
        "id": "J3U7BnJwP-eR",
        "outputId": "422bc353-e163-4873-8d56-db2118c56ab5"
      },
      "outputs": [
        {
          "output_type": "stream",
          "name": "stdout",
          "text": [
            "Hello, World\n"
          ]
        }
      ],
      "source": [
        "print(\"Hello, World\")"
      ]
    },
    {
      "cell_type": "markdown",
      "metadata": {
        "id": "bOz-DvgmqoE5"
      },
      "source": [
        "**Comment**\n",
        "\n",
        "First below we start coding, let get use to commenting line or intructions\n",
        "\n",
        "A comment in Python is a line of text that is ignored by the Python interpreter. Comments are used to explain the code, provide notes for the programmer, or disable parts of the code without deleting them.\n",
        "\n",
        "\n",
        "To write a comment in Python, start the line with a hash mark (`#`). Everything on the line after the hash mark will be ignored by the Python interpreter.\n",
        "\n",
        "```\n",
        "# assign a code\n",
        "print(\"Hello Earth\")\n",
        "```\n",
        "this returns\n",
        "```\n",
        "> Hello, Earth\n",
        "```\n",
        "check this\n",
        "```\n",
        "my first python code, printing \"Hello Earth\"\n",
        "print(\"Hello Earth\")\n",
        "```\n",
        "This returns and error\n",
        "```\n",
        "> File \"<ipython-input-1-4b0d34c5f954>\", line 1\n",
        "    my first python code, printing \"Hello Earth\"\n",
        "       ^\n",
        "SyntaxError: invalid syntax\n",
        "```\n",
        "But we we comment, the intructions\n",
        "```\n",
        "# my first python code, printing \"Hello Earth\"\n",
        "print(\"Hello Earth\")\n",
        "```\n",
        "This returns\n",
        "```\n",
        "> Hello Earth\n",
        "```"
      ]
    },
    {
      "cell_type": "markdown",
      "metadata": {
        "id": "i2OponCDtPt5"
      },
      "source": [
        "comment the instructions to avoid an errors"
      ]
    },
    {
      "cell_type": "code",
      "execution_count": null,
      "metadata": {
        "id": "8YFmixaWtMRS"
      },
      "outputs": [],
      "source": [
        "Printing my Name\n",
        "print(\"Julius Patya\")"
      ]
    },
    {
      "cell_type": "code",
      "execution_count": null,
      "metadata": {
        "id": "nk9fdzi9toGn"
      },
      "outputs": [],
      "source": [
        "This line will not be executed.\n",
        "print(\"This line will not be executed.\")"
      ]
    },
    {
      "cell_type": "code",
      "execution_count": null,
      "metadata": {
        "id": "XynLivXJs_6N"
      },
      "outputs": [],
      "source": [
        "printing a number\n",
        "print(34)"
      ]
    },
    {
      "cell_type": "markdown",
      "metadata": {
        "id": "6NYwrXWmiUW5"
      },
      "source": [
        "You can be bold and edit some of the codes below and see the results"
      ]
    },
    {
      "cell_type": "code",
      "execution_count": null,
      "metadata": {
        "id": "xlI1qqkqh_zg"
      },
      "outputs": [],
      "source": [
        "# change the number 30 to any other age and then run\n",
        "age = 30\n",
        "\n",
        "if age < 13:\n",
        "    print(\"Hello Baby\")\n",
        "elif age < 20:\n",
        "    print(\"Welcome Teenager\")\n",
        "else:\n",
        "    print(\"Hello Adult\")"
      ]
    },
    {
      "cell_type": "markdown",
      "metadata": {
        "id": "ePcAEbubjPe-"
      },
      "source": [
        "###2. Python Basics\n",
        "---\n",
        "\n",
        "**Variables and Data Types**\n",
        "\n",
        "*What are variable?*\n",
        "\n",
        "A variable is a container that can be use to store data or values. They can be use to store different types of data. These variables can then be used later in the program.\n",
        "\n",
        "We use the **=** sign to store values to a variable.\n",
        "\n",
        "For example, you can declare a variable named \"`my_name`\" and store the value \"`Andazi Boboye`\" in it:\n",
        "\n",
        "code:\n",
        "```\n",
        "my_name = \"Andazi Boboye\"\n",
        "print(my_name)\n",
        "```\n",
        "result:\n",
        "```\n",
        "Andazi Boboye\n",
        "```"
      ]
    },
    {
      "cell_type": "code",
      "execution_count": null,
      "metadata": {
        "id": "3eI0W0RkpvWu"
      },
      "outputs": [],
      "source": [
        "# we would create a variable called favorite_song and assign it to the string(value) \"Another love by Tom Odell\"\n",
        "# print favorite_song\n",
        "favorite_song = \"Another love by Tom Odell\""
      ]
    },
    {
      "cell_type": "markdown",
      "metadata": {
        "id": "qNeNI6bv5zXy"
      },
      "source": [
        "\n",
        "**Here are some tips for naming variables:**\n",
        "\n",
        "-   Use meaningful names that describe the data that the variable stores. This helps make code more readable and understandable.\n",
        "```\n",
        "# Good variable name\n",
        "name = \"JACK SPARROW\"\n",
        "age = 39\n",
        "is_pirate = True\n",
        "```\n",
        "-   Avoid using special characters or spaces in variable names.\n",
        "```\n",
        "# WRONG VARIABLE NAME\n",
        "first name = \"Andazi Ahmed\"\n",
        "percent% = 100\n",
        "```\n",
        "-   Use underscores to separate words in variable names.\n",
        "```\n",
        "first_name = \"Priya\"\n",
        "last_name = \"Andazi\"\n",
        "student_grades = \"A\"\n",
        "get_access_code = \"23sd89@3SA%$&W\"\n",
        "```\n",
        "-   Start variable names with a lowercase letter.\n",
        "```\n",
        "# wrong case\n",
        "My_name = \"Li Ming\"\n",
        "Age = 23\n",
        "FIRST_NAME = \"Pablo\"\n",
        "```\n",
        "```\n",
        "#correction\n",
        "my_name = \"Li Ming\"\n",
        "age = 23\n",
        "first_name = \"Pablo\"\n",
        "```\n",
        "-    Avoid reserved keywords: A reserved keyword is a word that has a special meaning such as:\n",
        "```\n",
        "and\n",
        "as\n",
        "assert\n",
        "break\n",
        "class\n",
        "continue\n",
        "def\n",
        "del\n",
        "elif\n",
        "else\n",
        "except\n",
        "finally\n",
        "for\n",
        "from\n",
        "global\n",
        "if\n",
        "import\n",
        "in\n",
        "is\n",
        "lambda\n",
        "nonlocal\n",
        "not\n",
        "or\n",
        "pass\n",
        "raise\n",
        "return\n",
        "try\n",
        "while\n",
        "with\n",
        "yield\n",
        "```\n",
        "As we keep coding we would uncover some of them.\n",
        "Dont worry, python would tell you if you are using a reserve keyword or not.\n",
        "\n",
        "Therefore you cant write and run the below codes\n",
        "\n",
        "You can run the code below to see the errors"
      ]
    },
    {
      "cell_type": "markdown",
      "metadata": {
        "id": "PKZSOG_z6RIe"
      },
      "source": [
        "Change the daclaration to `total_yield` and run the below `code`"
      ]
    },
    {
      "cell_type": "code",
      "execution_count": null,
      "metadata": {
        "id": "3xVdmHTQ5-sw",
        "colab": {
          "base_uri": "https://localhost:8080/",
          "height": 133
        },
        "outputId": "bb4c266e-da57-4b1e-9f09-77af4ea2d059"
      },
      "outputs": [
        {
          "output_type": "error",
          "ename": "SyntaxError",
          "evalue": "ignored",
          "traceback": [
            "\u001b[0;36m  File \u001b[0;32m\"<ipython-input-25-39551f6eb3ab>\"\u001b[0;36m, line \u001b[0;32m2\u001b[0m\n\u001b[0;31m    yield = 35\u001b[0m\n\u001b[0m    ^\u001b[0m\n\u001b[0;31mSyntaxError\u001b[0m\u001b[0;31m:\u001b[0m assignment to yield expression not possible\n"
          ]
        }
      ],
      "source": [
        "#reserved keyword\n",
        "yield = 35\n",
        "print(yield)"
      ]
    },
    {
      "cell_type": "markdown",
      "metadata": {
        "id": "D3UnwOtRqdSt"
      },
      "source": [
        "**EXERCISE**"
      ]
    },
    {
      "cell_type": "code",
      "execution_count": null,
      "metadata": {
        "id": "SYYLJu29pVXQ"
      },
      "outputs": [],
      "source": [
        "# edit the cell\n",
        "# declare a variable names birth_year and assign it to value 2000\n",
        "# print birth_year"
      ]
    },
    {
      "cell_type": "code",
      "execution_count": null,
      "metadata": {
        "id": "IpV5yuxkqm7V"
      },
      "outputs": [],
      "source": [
        "# edit the cell\n",
        "# declare a variable names current_year and assign it to value 2023\n",
        "# print current_year"
      ]
    },
    {
      "cell_type": "code",
      "execution_count": null,
      "metadata": {
        "id": "QQqk0hpzqlpy"
      },
      "outputs": [],
      "source": [
        "# edit the cell\n",
        "# declare a variable names best_course and assign it to value \"Python\"\n",
        "# print birth_year"
      ]
    },
    {
      "cell_type": "markdown",
      "metadata": {
        "id": "I91nJ1-YrNij"
      },
      "source": [
        "you should have completed the above exercise\n",
        "\n",
        "_Dont worry if it still confusing, I still reply bonjour to any sentence in my French class_"
      ]
    },
    {
      "cell_type": "markdown",
      "metadata": {
        "id": "iC-SjB8wytgo"
      },
      "source": [
        "---\n",
        "**Basic Data Types**\n",
        "\n",
        "\n",
        "In Python, data types represent the kind of data that can be stored and manipulated in a program. Python has several built-in data types that serve different purposes and allow you to work with various kinds of data. Understanding data types is crucial for writing effective and robust Python programs. Let's explore the commonly used data types:\n",
        "\n",
        "---"
      ]
    },
    {
      "cell_type": "markdown",
      "metadata": {
        "id": "-iXu9xUrxqWz"
      },
      "source": [
        "\n",
        "***Numeric Data Types***\n",
        "- **int**: Represents integer values without any decimal points. For example, `42`, `-10`, `0`.\n",
        "\n"
      ]
    },
    {
      "cell_type": "code",
      "execution_count": null,
      "metadata": {
        "id": "Y-TbadNY88e-"
      },
      "outputs": [],
      "source": [
        "# The below value is an integer\n",
        "age = 18\n",
        "\n",
        "# height in feet\n",
        "height = 6"
      ]
    },
    {
      "cell_type": "markdown",
      "metadata": {
        "id": "Pc2Gh0BD9XVE"
      },
      "source": [
        "**Exercise**"
      ]
    },
    {
      "cell_type": "code",
      "execution_count": null,
      "metadata": {
        "id": "6cxJZXGa9aVt"
      },
      "outputs": [],
      "source": [
        "# Create 10 different integers"
      ]
    },
    {
      "cell_type": "markdown",
      "metadata": {
        "id": "_QHjzjIh81DH"
      },
      "source": [
        "- **float**: Represents floating-point or decimal values with a fractional part. For example, `3.14`, `-0.5`, `2.0`."
      ]
    },
    {
      "cell_type": "code",
      "execution_count": null,
      "metadata": {
        "id": "Ck8pA2oT9O3g"
      },
      "outputs": [],
      "source": [
        "# The below value is an integer\n",
        "ratings = 4.5\n",
        "\n",
        "# height in feet\n",
        "height = 6.2"
      ]
    },
    {
      "cell_type": "markdown",
      "metadata": {
        "id": "iTeQZCBl9hhW"
      },
      "source": [
        "**Exercise**\n"
      ]
    },
    {
      "cell_type": "code",
      "execution_count": null,
      "metadata": {
        "id": "TIxPds1L9ksH"
      },
      "outputs": [],
      "source": [
        "# Create 10 different floats"
      ]
    },
    {
      "cell_type": "markdown",
      "metadata": {
        "id": "y_juYPEUwh1J"
      },
      "source": [
        "\n",
        "***Boolean Data Type***\n",
        "- **bool**: Represents Boolean values that can be either `True` or `False`. Booleans are commonly used in logical operations and conditional statements.\n",
        "\n",
        "Boolean represent when something or a result has to options only.\n",
        "\n",
        "```\n",
        "is_happy = True\n",
        "is_happy = False\n",
        "```\n",
        "They are commonly use in programming to make decisions and control the flow.\n",
        "\n",
        "control the flow, means if a condition is `True` then `do this` else `do that`\n",
        "\n"
      ]
    },
    {
      "cell_type": "code",
      "execution_count": null,
      "metadata": {
        "colab": {
          "base_uri": "https://localhost:8080/"
        },
        "id": "LYi3s5tqzkF1",
        "outputId": "7ecb93e9-4716-4e71-96aa-b7fc5e261251"
      },
      "outputs": [
        {
          "output_type": "stream",
          "name": "stdout",
          "text": [
            "Welcome to Netflix\n"
          ]
        }
      ],
      "source": [
        "# Boolean and controlling the flow\n",
        "# Run the below code\n",
        "is_adult = True\n",
        "if is_adult:\n",
        "    print(\"Welcome to Netflix\")\n",
        "else:\n",
        "    print(\"Please, Enter Parental pin\")"
      ]
    },
    {
      "cell_type": "markdown",
      "metadata": {
        "id": "YQ6PVmWr5gqj"
      },
      "source": [
        "**Exercise**"
      ]
    },
    {
      "cell_type": "code",
      "execution_count": null,
      "metadata": {
        "colab": {
          "base_uri": "https://localhost:8080/"
        },
        "id": "NqF8RhAH0KVF",
        "outputId": "2c2c046f-ed93-45ba-a441-e8a3b751810c"
      },
      "outputs": [
        {
          "output_type": "stream",
          "name": "stdout",
          "text": [
            "You are an adult\n",
            "You need to start paying Tax\n"
          ]
        }
      ],
      "source": [
        "# check this out\n",
        "\n",
        "# assign a value to age\n",
        "# change the value to random values of your choose\n",
        "age = 21\n",
        "\n",
        "#logical flow\n",
        "#checking if age is greater the 17\n",
        "\n",
        "if age > 17:\n",
        "    # do this\n",
        "    print(\"You are an adult\")\n",
        "    print(\"You need to start paying Tax\")\n",
        "else:\n",
        "    print(\"Come take your Allowance for the Week\")"
      ]
    },
    {
      "cell_type": "markdown",
      "metadata": {
        "id": "ZF6L-hEK1C5E"
      },
      "source": [
        "Like we concluded earliar, that `Booleans` can either be `True` or `False`\n",
        "\n",
        "Please note that `True` is not the same as `true` or `TRUE`\n",
        "`False` is not the same as `false` or `false`\n",
        "\n",
        "`True` and `False` is a `boolean`\n",
        "`true`, `TRUE`, `false`, `FALSE` or any form of variation that is not `True` is not a `boolean`\n",
        "\n",
        "---\n"
      ]
    },
    {
      "cell_type": "markdown",
      "metadata": {
        "id": "nPq-56bhxFC5"
      },
      "source": [
        "\n",
        "***Sequence Data Types***\n",
        "- **str**: Represents a sequence of characters enclosed in single quotes (`'`) or double quotes (`\"`). For example, `'Hello'`, `\"Python\"`.\n",
        "\n",
        "A value is a `String` if it is enclose in either single qoute `''`\n",
        "or double qoutes `\"\"`\n",
        "\n",
        "examples:\n",
        "\n",
        "`\"Andazi\"`, `'Andazi'` are both `string`\n",
        "\n",
        "`\"26\"`, `'90.45'`, `'-234.45'` are all strings due to the quotes enclosure\n",
        "\n",
        "just like `26`, `90.45`, `-234.45` are not `Strings`\n"
      ]
    },
    {
      "cell_type": "code",
      "execution_count": null,
      "metadata": {
        "id": "62BW7TLb285k"
      },
      "outputs": [],
      "source": [
        "a = \"23\""
      ]
    },
    {
      "cell_type": "markdown",
      "metadata": {
        "id": "2uIrIHHB44jl"
      },
      "source": [
        "**Exercise**"
      ]
    },
    {
      "cell_type": "code",
      "execution_count": null,
      "metadata": {
        "id": "dPGgwO3H4y8y"
      },
      "outputs": [],
      "source": [
        "# create a 10 diffrent strings"
      ]
    },
    {
      "cell_type": "markdown",
      "metadata": {
        "id": "-11x9aEo2cOd"
      },
      "source": [
        "- **list**: Represents an ordered collection of items enclosed in square brackets (`[]`).\n",
        "\n",
        "Lists can contain elements of different data types and can be modified (mutable). For example, `[1, 2, 'three', True]`."
      ]
    },
    {
      "cell_type": "markdown",
      "metadata": {
        "id": "a5PRZjVA6sCy"
      },
      "source": [
        "Lets create an empty List\n",
        "```\n",
        "names = []\n",
        "```"
      ]
    },
    {
      "cell_type": "code",
      "execution_count": null,
      "metadata": {
        "colab": {
          "base_uri": "https://localhost:8080/"
        },
        "id": "0WrBcQym6ymU",
        "outputId": "714a0998-7a44-4dd4-9fa6-59bfb7e45f8c"
      },
      "outputs": [
        {
          "output_type": "stream",
          "name": "stdout",
          "text": [
            "[]\n"
          ]
        }
      ],
      "source": [
        "# Run the below code\n",
        "names = []\n",
        "print(names)"
      ]
    },
    {
      "cell_type": "markdown",
      "metadata": {
        "id": "-OLz9za668Dk"
      },
      "source": [
        "Creating a List of Strings\n"
      ]
    },
    {
      "cell_type": "code",
      "execution_count": null,
      "metadata": {
        "colab": {
          "base_uri": "https://localhost:8080/"
        },
        "id": "9ngMt86A7c-K",
        "outputId": "5970d67a-b412-4602-f590-017e650a15b9"
      },
      "outputs": [
        {
          "output_type": "stream",
          "name": "stdout",
          "text": [
            "['anna', 'sinla', 'ebimo', 'ebi', 'india', 'maryjane', 'blessing', 'mary', 'precious', 'stella']\n"
          ]
        }
      ],
      "source": [
        "female_names = [\"anna\", \"sinla\", \"ebimo\", \"ebi\", \"india\", \"maryjane\", \"blessing\", \"mary\", \"precious\", \"stella\"]\n",
        "print(female_names)"
      ]
    },
    {
      "cell_type": "code",
      "execution_count": null,
      "metadata": {
        "colab": {
          "base_uri": "https://localhost:8080/"
        },
        "id": "txz63hxT66-E",
        "outputId": "96a3599a-43fe-4f65-d505-04ce894f08e8"
      },
      "outputs": [
        {
          "output_type": "stream",
          "name": "stdout",
          "text": [
            "['Real Madrid', 'FC Barcelona', 'Manchester United', 'Liverpool', 'Paris Saint-Germain', 'FC Bayern Munich', 'Arsenal', 'Tottenham Hotspur', 'Chelsea', 'Juventus', 'Club Atlético de Madrid', 'Borussia Dortmund', 'FC Internazionale Milano', 'AC Milan', 'Manchester City', 'Atlético Madrid', 'Sevilla FC', 'West Ham United', 'SSC Napoli', 'RasenBallsport Leipzig', 'Aston Villa', 'AS Roma', 'Eintracht Frankfurt', 'Everton', 'Olympique de Marseille', 'Valencia CF', 'Benfica', 'Porto', 'Ajax', 'Sporting CP', 'Shakhtar Donetsk', 'Dynamo Kyiv', 'Club América', 'Flamengo', 'Palmeiras', 'Santos', 'River Plate', 'Boca Juniors']\n"
          ]
        }
      ],
      "source": [
        "football_clubs = ['Real Madrid', 'FC Barcelona', 'Manchester United', 'Liverpool', 'Paris Saint-Germain', 'FC Bayern Munich', 'Arsenal', 'Tottenham Hotspur', 'Chelsea', 'Juventus', 'Club Atlético de Madrid', 'Borussia Dortmund', 'FC Internazionale Milano', 'AC Milan', 'Manchester City', 'Atlético Madrid', 'Sevilla FC', 'West Ham United', 'SSC Napoli', 'RasenBallsport Leipzig', 'Aston Villa', 'AS Roma', 'Eintracht Frankfurt', 'Everton', 'Olympique de Marseille', 'Valencia CF', 'Benfica', 'Porto', 'Ajax', 'Sporting CP', 'Shakhtar Donetsk', 'Dynamo Kyiv', 'Club América', 'Flamengo', 'Palmeiras', 'Santos', 'River Plate', 'Boca Juniors']\n",
        "print(football_clubs)"
      ]
    },
    {
      "cell_type": "markdown",
      "metadata": {
        "id": "XJ_2d4NZ8RTv"
      },
      "source": [
        "Creating a List of Numbers"
      ]
    },
    {
      "cell_type": "code",
      "execution_count": null,
      "metadata": {
        "id": "g3gOXBRl8B_t",
        "colab": {
          "base_uri": "https://localhost:8080/"
        },
        "outputId": "18ade51b-b4c0-4f36-d734-72709416bc77"
      },
      "outputs": [
        {
          "output_type": "stream",
          "name": "stdout",
          "text": [
            "[1810, 1867, 1982, 1917, 1943, 1815, 1749, 1975, 1892, 1976, 1968, 1866, 1888, 1920, 1777, 1858, 1911, 1999, 1802, 1904, 1997, 1848, 1993, 1742, 1956, 1790, 1959, 1963, 1952, 1835, 1863, 1957, 1899]\n"
          ]
        }
      ],
      "source": [
        "years = [1810, 1867, 1982, 1917, 1943, 1815, 1749, 1975, 1892, 1976, 1968, 1866, 1888, 1920, 1777, 1858, 1911, 1999, 1802, 1904, 1997, 1848, 1993, 1742, 1956, 1790, 1959, 1963, 1952, 1835, 1863, 1957, 1899]\n",
        "print(years)"
      ]
    },
    {
      "cell_type": "code",
      "execution_count": null,
      "metadata": {
        "id": "NYfs2yko8XaE",
        "colab": {
          "base_uri": "https://localhost:8080/"
        },
        "outputId": "83d77ef6-0dbf-4cdd-f636-074a2ad284d7"
      },
      "outputs": [
        {
          "output_type": "stream",
          "name": "stdout",
          "text": [
            "[1.0, 2.0, 3.0, 4.0, 50.7, 67.3]\n"
          ]
        }
      ],
      "source": [
        "percent = [1.0, 2.0, 3.0, 4.0, 50.7, 67.3]\n",
        "print(percent)"
      ]
    },
    {
      "cell_type": "markdown",
      "metadata": {
        "id": "ZnV5_S3wxL6x"
      },
      "source": [
        "\n",
        "***Mapping Data Type***\n",
        "- **dict**: Represents a collection of key-value pairs enclosed in curly braces (`{}`). Dictionaries are unordered, mutable, and use unique keys to access their values. For example, `{'name': 'John', 'age': 25, 'city': 'New York'}`.\n",
        "\n"
      ]
    },
    {
      "cell_type": "markdown",
      "metadata": {
        "id": "JFHg7ou1xP6z"
      },
      "source": [
        "***Set Data Type***\n",
        "- **set**: Represents an unordered collection of unique elements enclosed in curly braces (`{}`). Sets do not allow duplicate values. For example, `{1, 2, 3, 4, 5}`.\n"
      ]
    },
    {
      "cell_type": "markdown",
      "metadata": {
        "id": "IELY-XARxTKz"
      },
      "source": [
        "\n",
        "***Tuple Data Type***\n",
        "- **tuple**: Represents an ordered collection of elements enclosed in parentheses (`()`). Tuples are similar to lists but are immutable (cannot be modified). For example, `(1, 'two', True)`.\n"
      ]
    },
    {
      "cell_type": "markdown",
      "metadata": {
        "id": "EdmiY07LxV7R"
      },
      "source": [
        "\n",
        "***None Type***\n",
        "- **None**: Represents a special type that indicates the absence of a value or a null value. It is often used to represent variables that don't have a value assigned yet.\n",
        "\n"
      ]
    },
    {
      "cell_type": "markdown",
      "metadata": {
        "id": "wGAbQeTF3mAF"
      },
      "source": [
        "**Checking the datatypes**"
      ]
    },
    {
      "cell_type": "code",
      "execution_count": null,
      "metadata": {
        "id": "Z6gCAYRS3vA8"
      },
      "outputs": [],
      "source": [
        "# Examples of data types\n",
        "my_name = 'John'\n",
        "my_age = 30\n",
        "temperature = 25.5\n",
        "is_raining = True\n",
        "my_list = [1, 2, 3]\n",
        "my_dict = {'name': 'John', 'age': 30}\n",
        "my_set = {1, 2, 3}\n",
        "my_tuple = (1, 'two', True)\n",
        "nothing = None\n",
        "\n"
      ]
    },
    {
      "cell_type": "code",
      "execution_count": null,
      "metadata": {
        "colab": {
          "base_uri": "https://localhost:8080/"
        },
        "id": "pF4IhO4H37xa",
        "outputId": "6cd507fa-074e-4636-c981-cbc3fe665a02"
      },
      "outputs": [
        {
          "output_type": "execute_result",
          "data": {
            "text/plain": [
              "str"
            ]
          },
          "metadata": {},
          "execution_count": 36
        }
      ],
      "source": [
        "# checking datatypes\n",
        "type(my_name)"
      ]
    },
    {
      "cell_type": "code",
      "execution_count": null,
      "metadata": {
        "colab": {
          "base_uri": "https://localhost:8080/"
        },
        "id": "IWhnnAc7sYMV",
        "outputId": "dd860507-79cc-473d-a03e-8931a921b5a7"
      },
      "outputs": [
        {
          "output_type": "execute_result",
          "data": {
            "text/plain": [
              "dict"
            ]
          },
          "metadata": {},
          "execution_count": 37
        }
      ],
      "source": [
        "type(my_dict)"
      ]
    },
    {
      "cell_type": "code",
      "execution_count": null,
      "metadata": {
        "colab": {
          "base_uri": "https://localhost:8080/"
        },
        "id": "gXRZ0hyWsbJG",
        "outputId": "5eae3889-3bac-47aa-aa24-155e726f4c11"
      },
      "outputs": [
        {
          "output_type": "execute_result",
          "data": {
            "text/plain": [
              "tuple"
            ]
          },
          "metadata": {},
          "execution_count": 38
        }
      ],
      "source": [
        "type(my_tuple)"
      ]
    },
    {
      "cell_type": "code",
      "execution_count": null,
      "metadata": {
        "colab": {
          "base_uri": "https://localhost:8080/"
        },
        "id": "MVPkAgqz4Gwl",
        "outputId": "4b432e5f-5cf1-4b0c-8e9c-029a9e6ee612"
      },
      "outputs": [
        {
          "output_type": "execute_result",
          "data": {
            "text/plain": [
              "int"
            ]
          },
          "metadata": {},
          "execution_count": 39
        }
      ],
      "source": [
        "type(my_age)"
      ]
    },
    {
      "cell_type": "markdown",
      "source": [
        "Exercise\n",
        "\n",
        "Create 3 varialbes for each DataTypes"
      ],
      "metadata": {
        "id": "_VGCy3HV0vnP"
      }
    },
    {
      "cell_type": "markdown",
      "source": [
        "**Converting from one DataType to another**\n",
        "\n",
        "We can convert from one data type to another very easily\n",
        "\n",
        "```\n",
        "# Convert from Integer to String\n",
        "age = 24\n",
        "\n",
        "# check the DataType\n",
        "type(age)\n",
        "```\n",
        "Result\n",
        "```\n",
        "int\n",
        "\n",
        "```\n",
        "\n",
        "```\n",
        "# convert to string and reassign to age\n",
        "age = str(age)\n",
        "\n",
        "type(age)\n",
        "```\n",
        "Result\n",
        "```\n",
        "str\n",
        "```"
      ],
      "metadata": {
        "id": "vHip2TRk1dvM"
      }
    },
    {
      "cell_type": "code",
      "source": [
        "# assigning a variable\n",
        "a = 28\n",
        "\n",
        "#checking\n",
        "print(a)\n",
        "print(type(a))"
      ],
      "metadata": {
        "colab": {
          "base_uri": "https://localhost:8080/"
        },
        "id": "DZGAcwBU4aGF",
        "outputId": "3bd1c647-be85-4f31-ac54-d1d8e8bcdbb8"
      },
      "execution_count": null,
      "outputs": [
        {
          "output_type": "stream",
          "name": "stdout",
          "text": [
            "28\n",
            "<class 'int'>\n"
          ]
        }
      ]
    },
    {
      "cell_type": "code",
      "source": [
        "# reassigning to a different data\n",
        "b = str(a)\n",
        "\n",
        "#checking\n",
        "print(b)\n",
        "print(type(b))"
      ],
      "metadata": {
        "id": "T3_R57YJ9QPd"
      },
      "execution_count": null,
      "outputs": []
    },
    {
      "cell_type": "code",
      "source": [
        "# converting Float to Integer\n",
        "\n",
        "height = 6.11\n",
        "\n",
        "# checking\n",
        "print(height)\n",
        "print(type(height))"
      ],
      "metadata": {
        "colab": {
          "base_uri": "https://localhost:8080/"
        },
        "id": "A0-GYAxm-E__",
        "outputId": "91e1de42-adc9-46db-ba6a-ef2d69ab33b0"
      },
      "execution_count": null,
      "outputs": [
        {
          "output_type": "stream",
          "name": "stdout",
          "text": [
            "6.11\n",
            "<class 'float'>\n"
          ]
        }
      ]
    },
    {
      "cell_type": "code",
      "source": [
        "# reassigning to height but to an Integer DataType\n",
        "\n",
        "height = int(height)\n",
        "\n",
        "# checking\n",
        "print(height)\n",
        "print(type(height))"
      ],
      "metadata": {
        "colab": {
          "base_uri": "https://localhost:8080/"
        },
        "id": "ZeP55GgH-Wjd",
        "outputId": "e2c24653-546c-4214-ba80-23fccbbf05d1"
      },
      "execution_count": null,
      "outputs": [
        {
          "output_type": "stream",
          "name": "stdout",
          "text": [
            "6\n",
            "<class 'int'>\n"
          ]
        }
      ]
    },
    {
      "cell_type": "markdown",
      "source": [
        "**note:** converting from Float to Integer, kicks off the decimals"
      ],
      "metadata": {
        "id": "qH8rmWkQ-ut2"
      }
    },
    {
      "cell_type": "code",
      "source": [
        "# converting from Integer to Float\n",
        "\n",
        "time = 69\n",
        "\n",
        "# checking\n",
        "print(time)\n",
        "print(type(time))"
      ],
      "metadata": {
        "colab": {
          "base_uri": "https://localhost:8080/"
        },
        "id": "7pCsNJYO_BUJ",
        "outputId": "0d3478f0-7c5b-4b8a-e1f0-cb1b0453386c"
      },
      "execution_count": null,
      "outputs": [
        {
          "output_type": "stream",
          "name": "stdout",
          "text": [
            "69\n",
            "<class 'int'>\n"
          ]
        }
      ]
    },
    {
      "cell_type": "code",
      "source": [
        "# converting from Integer to Float\n",
        "time = float(time)\n",
        "\n",
        "# checking\n",
        "print(time)\n",
        "print(type(time))"
      ],
      "metadata": {
        "colab": {
          "base_uri": "https://localhost:8080/"
        },
        "id": "CDfbITdE_PGa",
        "outputId": "26eb8f9f-45ab-4c90-9afe-17fbaf9ec02d"
      },
      "execution_count": null,
      "outputs": [
        {
          "output_type": "stream",
          "name": "stdout",
          "text": [
            "69.0\n",
            "<class 'float'>\n"
          ]
        }
      ]
    },
    {
      "cell_type": "markdown",
      "source": [
        "**note:** converting from integer to float, adds a `.0` at the end of the integer"
      ],
      "metadata": {
        "id": "LgNGHlQmDdSo"
      }
    },
    {
      "cell_type": "markdown",
      "source": [
        "converting from string to list"
      ],
      "metadata": {
        "id": "Z1sXaze4GPBN"
      }
    },
    {
      "cell_type": "code",
      "source": [
        "sentence = 'HELLO, WORLD'\n",
        "\n",
        "# checking\n",
        "print(sentence)\n",
        "print(type(sentence))"
      ],
      "metadata": {
        "colab": {
          "base_uri": "https://localhost:8080/"
        },
        "id": "5AiRkMNtGUsm",
        "outputId": "d80854f9-b504-4229-9286-9e0918162835"
      },
      "execution_count": null,
      "outputs": [
        {
          "output_type": "stream",
          "name": "stdout",
          "text": [
            "HELLO, WORLD\n",
            "<class 'str'>\n"
          ]
        }
      ]
    },
    {
      "cell_type": "code",
      "source": [
        "# converting to list\n",
        "\n",
        "sentence = list(sentence)\n",
        "\n",
        "print(sentence)\n",
        "print(type(sentence))"
      ],
      "metadata": {
        "colab": {
          "base_uri": "https://localhost:8080/"
        },
        "id": "4ompI_aEGoxH",
        "outputId": "890a8cd8-0cea-4bba-890a-4b963c696984"
      },
      "execution_count": null,
      "outputs": [
        {
          "output_type": "stream",
          "name": "stdout",
          "text": [
            "['H', 'E', 'L', 'L', 'O', ',', ' ', 'W', 'O', 'R', 'L', 'D']\n",
            "<class 'list'>\n"
          ]
        }
      ]
    },
    {
      "cell_type": "markdown",
      "source": [
        "**note:** converting from string to list, iterates through all the characters in the string including the *white-space* and symbols.\n",
        "\n",
        "But can we convert a number to a List\n",
        "\n",
        "Below code returns an error"
      ],
      "metadata": {
        "id": "Ic-uRBI4HEYI"
      }
    },
    {
      "cell_type": "code",
      "source": [
        "weight = 190\n",
        "print(list(weight))"
      ],
      "metadata": {
        "id": "tyyAkruUG2mI"
      },
      "execution_count": null,
      "outputs": []
    },
    {
      "cell_type": "markdown",
      "source": [
        "To convert a number to List, we first convert the number to string then to list"
      ],
      "metadata": {
        "id": "8LK-4e4LHrbz"
      }
    },
    {
      "cell_type": "code",
      "source": [
        "weight = 190\n",
        "\n",
        "# to string\n",
        "weight = str(weight)\n",
        "\n",
        "# to list\n",
        "weight = list(weight)\n",
        "\n",
        "#confirmation\n",
        "\n",
        "print(weight)\n",
        "print(type(weight))"
      ],
      "metadata": {
        "colab": {
          "base_uri": "https://localhost:8080/"
        },
        "id": "uMQstKx4H02U",
        "outputId": "08b48634-5a86-49e4-871e-30b648bfd070"
      },
      "execution_count": null,
      "outputs": [
        {
          "output_type": "stream",
          "name": "stdout",
          "text": [
            "['1', '9', '0']\n",
            "<class 'list'>\n"
          ]
        }
      ]
    },
    {
      "cell_type": "markdown",
      "source": [
        "**Exercise**\n",
        "\n",
        "Convert from diffrent one Datatype to another DataType\n"
      ],
      "metadata": {
        "id": "yvSyRbq-IKGX"
      }
    },
    {
      "cell_type": "markdown",
      "metadata": {
        "id": "o0XvRiE_xZ6T"
      },
      "source": [
        "\n",
        "***Understanding and utilizing these data types will enable you to work with different kinds of data effectively. Python is a dynamically typed language, which means you don't need to explicitly declare the data type of a variable. The data type is inferred based on the value assigned to the variable.***\n"
      ]
    },
    {
      "cell_type": "markdown",
      "metadata": {
        "id": "ALs0mktmmZys"
      },
      "source": [
        "---\n",
        "\n",
        "**Operators and Expressions**\n",
        "\n",
        "---\n",
        "\n",
        "- Arithematic Operators\n",
        "- Comparison Operators\n",
        "- Logical Operators\n",
        "- Assignment Operators\n",
        "- Membership Operators\n",
        "- Identity Operators\n",
        "- Bitwise Operators"
      ]
    },
    {
      "cell_type": "markdown",
      "source": [
        "- **Arithematic Operators**\n",
        "\n",
        "These are operators use to perform basic Mathematical Operations. They are,\n",
        "\n",
        "```\n",
        "Addition                    +     Returns the sum of numbers\n",
        "Subtraction                 _     Returns the diffrence with numbers\n",
        "Multiplication              *     Returns the product between numbers\n",
        "Division                    /     Returns the Division of numbers but in Float DataType\n",
        "Floor Division              //    Returns the Division of numbers but in Integer DataType (it kicks off the remainder)\n",
        "Modulus                     %     Returns the remainder of the Division between numbers\n",
        "Exponentiation              **    Returns the a number to the power of the second number\n",
        "```"
      ],
      "metadata": {
        "id": "8Dut0022LVkN"
      }
    },
    {
      "cell_type": "markdown",
      "source": [
        "**Addition**\n",
        "\n",
        "Numbers\n",
        "\n",
        "Adding numbers returns the sum\n",
        "```\n",
        "a = 36\n",
        "b = 33\n",
        "c = a + b\n",
        "print(c)\n",
        "```\n",
        "result\n",
        "```\n",
        "69\n",
        "```"
      ],
      "metadata": {
        "id": "31cQSG7mImzq"
      }
    },
    {
      "cell_type": "code",
      "execution_count": null,
      "metadata": {
        "id": "nvVfwxrOmdUJ",
        "colab": {
          "base_uri": "https://localhost:8080/"
        },
        "outputId": "ab452e90-b07e-4494-b542-a6abacd943be"
      },
      "outputs": [
        {
          "output_type": "stream",
          "name": "stdout",
          "text": [
            "48\n",
            "32.5\n"
          ]
        }
      ],
      "source": [
        "print(23 + 25)\n",
        "print(23.5 + 9)"
      ]
    },
    {
      "cell_type": "markdown",
      "source": [
        "Strings\n",
        "\n",
        "The Question is, Can we add strings together? No, we can't but can only join string to another string.\n",
        "\n",
        "This is called **Concatenation**, in short **concat**\n",
        "\n",
        "```\n",
        "first_name = \"Adamu\"\n",
        "last_name = \"Peter\"\n",
        "\n",
        "fullname = first_name + last_name\n",
        "print(fullname)\n",
        "```\n",
        "Result\n",
        "```\n",
        "AdamuPeter\n",
        "```"
      ],
      "metadata": {
        "id": "ilAAMSLYJJsG"
      }
    },
    {
      "cell_type": "code",
      "source": [],
      "metadata": {
        "id": "pb30HCK3J5oK"
      },
      "execution_count": null,
      "outputs": []
    },
    {
      "cell_type": "markdown",
      "metadata": {
        "id": "dW0ZrHURmdx2"
      },
      "source": [
        "\n",
        "**Input and Output**\n",
        "\n",
        "---\n"
      ]
    },
    {
      "cell_type": "code",
      "execution_count": null,
      "metadata": {
        "id": "qIfHXC5Smf2r"
      },
      "outputs": [],
      "source": []
    },
    {
      "cell_type": "markdown",
      "metadata": {
        "id": "yx9CPi5ImgOp"
      },
      "source": [
        "\n",
        "**Control Flow (Conditionals and Loops)**"
      ]
    },
    {
      "cell_type": "markdown",
      "source": [
        "**List comprehension**\n",
        "\n",
        "```\n",
        "numbers = [23,12,45,66,90,12,43]\n",
        "\n",
        "even = [num for num in numbers if num % 2 == 0]\n",
        "print(even)\n",
        "```\n",
        "Result\n",
        "```\n",
        "[12, 66, 90, 12]\n",
        "```"
      ],
      "metadata": {
        "id": "D7U7vmpdNamt"
      }
    },
    {
      "cell_type": "code",
      "source": [
        "numbers = [23,12,45,66,90,12,43]\n",
        "\n",
        "even = [num for num in numbers if num % 2 == 0]\n",
        "print(even)"
      ],
      "metadata": {
        "colab": {
          "base_uri": "https://localhost:8080/"
        },
        "id": "FNv8fzcSNhoo",
        "outputId": "86412223-0bc9-4652-9549-1c179d5829fd"
      },
      "execution_count": null,
      "outputs": [
        {
          "output_type": "stream",
          "name": "stdout",
          "text": [
            "[12, 66, 90, 12]\n"
          ]
        }
      ]
    },
    {
      "cell_type": "markdown",
      "metadata": {
        "id": "hgGEf6CrYtJ5"
      },
      "source": [
        "## Functions and Modules"
      ]
    },
    {
      "cell_type": "markdown",
      "source": [
        "**Functions within a Function**"
      ],
      "metadata": {
        "id": "wJhcm0zsdrWT"
      }
    },
    {
      "cell_type": "code",
      "execution_count": null,
      "metadata": {
        "id": "zl8RVK2SYxTR"
      },
      "outputs": [],
      "source": [
        "#  score grading\n",
        "def get_grade(score):\n",
        "    grades = \"\"\n",
        "    if score >= 90:\n",
        "        grades = \"A\"\n",
        "    elif score >= 80:\n",
        "        grades = \"B\"\n",
        "    elif score >= 70:\n",
        "        grades = \"C\"\n",
        "    elif score >= 60:\n",
        "        grades = \"D\"\n",
        "    else:\n",
        "        grades = \"F\"\n",
        "    return grades\n",
        "\n",
        "def get_grades(math, english, science, art):\n",
        "    math_grade = get_grade(math) # get_grade(99)\n",
        "    english_grade = get_grade(english)\n",
        "    science_grade = get_grade(science)\n",
        "    art_grade = get_grade(art)\n",
        "\n",
        "    report =  f'''\n",
        "    math    : {math_grade}\n",
        "    english : {english_grade}\n",
        "    science : {science_grade}\n",
        "    art     : {art_grade}\n",
        "    '''\n",
        "\n",
        "    print(report)\n",
        "    #return report"
      ]
    },
    {
      "cell_type": "code",
      "execution_count": null,
      "metadata": {
        "colab": {
          "base_uri": "https://localhost:8080/"
        },
        "id": "TQF0q0CZZq-g",
        "outputId": "a782c36e-e21f-45a6-b765-2d2a21c71f6f"
      },
      "outputs": [
        {
          "output_type": "stream",
          "name": "stdout",
          "text": [
            "\n",
            "    math    : A\n",
            "    english : D\n",
            "    science : A\n",
            "    art     : C\n",
            "    \n"
          ]
        }
      ],
      "source": [
        "get_grades(99, 61, 98, 70)"
      ]
    },
    {
      "cell_type": "code",
      "execution_count": null,
      "metadata": {
        "id": "MK0LhQnLZ355"
      },
      "outputs": [],
      "source": [
        "# fake millitary requirement\n",
        "\n",
        "# checking physical status\n",
        "def male_physical(height, weight):\n",
        "  msg = \"Your Passed the Physical Test\"\n",
        "  if height >= 1.67 and weight >= 80 or weight <= 110:\n",
        "    return msg\n",
        "  else:\n",
        "    return \"You failed the requirement\"\n",
        "\n",
        "def female_physical(height, weight):\n",
        "  msg = \"Your Passed the Physical Test\"\n",
        "  if height >= 1.53 and weight in range(40, 71):\n",
        "    return msg\n",
        "  else:\n",
        "    return \"You failed the requirement\"\n",
        "\n",
        "\n",
        "# checking sex status\n",
        "def physical_status(sex, height, weight):\n",
        "  #converting arguments to lowercase\n",
        "  sex = sex.lower()\n",
        "  if sex == 'male':\n",
        "    return male_physical(height, weight)\n",
        "  elif sex == 'female':\n",
        "    return female_physical(height, weight)\n",
        "  else:\n",
        "    return 'Sorry, We do not understand your Sex Status'\n"
      ]
    },
    {
      "cell_type": "code",
      "execution_count": null,
      "metadata": {
        "colab": {
          "base_uri": "https://localhost:8080/",
          "height": 35
        },
        "id": "83Q-_8-wdcD7",
        "outputId": "5a4267db-afa7-41d3-ff0a-baaa8461377d"
      },
      "outputs": [
        {
          "output_type": "execute_result",
          "data": {
            "text/plain": [
              "'Your Passed the Physical Test'"
            ],
            "application/vnd.google.colaboratory.intrinsic+json": {
              "type": "string"
            }
          },
          "metadata": {},
          "execution_count": 43
        }
      ],
      "source": [
        "physical_status(\"female\", 1.70, 59)"
      ]
    },
    {
      "cell_type": "code",
      "execution_count": null,
      "metadata": {
        "id": "_b83mWe0ddrk"
      },
      "outputs": [],
      "source": []
    },
    {
      "cell_type": "markdown",
      "source": [
        "## 6. File Handling\n",
        "\n",
        "import library you would need\n",
        "```\n",
        "from csv import reader\n",
        "```\n",
        "\n",
        "open the csv file with right file location\n",
        "```\n",
        "\n",
        "opened_file = open('/content/sample_data/california_housing_test.csv')\n",
        "```\n",
        "read the file\n",
        "```\n",
        "read_file = reader(opened_file)\n",
        "```\n",
        "you can also convert it to a list\n",
        "```\n",
        "housing_data = list(read_file)\n"
      ],
      "metadata": {
        "id": "sA5-o05U9D5m"
      }
    },
    {
      "cell_type": "code",
      "source": [
        "from csv import reader\n",
        "\n",
        "opened_file = open('/content/sample_data/california_housing_test.csv')\n",
        "\n",
        "read_file = reader(opened_file)\n",
        "\n",
        "housing_data = list(read_file)"
      ],
      "metadata": {
        "id": "B_8efrs4-nYT"
      },
      "execution_count": 5,
      "outputs": []
    },
    {
      "cell_type": "code",
      "source": [
        "len(housing_data)"
      ],
      "metadata": {
        "colab": {
          "base_uri": "https://localhost:8080/"
        },
        "id": "hKAs9HFc-6Ad",
        "outputId": "185730ff-5354-40b1-d03c-690240e38b6a"
      },
      "execution_count": 6,
      "outputs": [
        {
          "output_type": "execute_result",
          "data": {
            "text/plain": [
              "3001"
            ]
          },
          "metadata": {},
          "execution_count": 6
        }
      ]
    },
    {
      "cell_type": "code",
      "source": [],
      "metadata": {
        "id": "Fo-PU8LrAg6m"
      },
      "execution_count": null,
      "outputs": []
    }
  ],
  "metadata": {
    "colab": {
      "provenance": [],
      "authorship_tag": "ABX9TyPEZxbFgGZOwlI7LpXJPDMs",
      "include_colab_link": true
    },
    "kernelspec": {
      "display_name": "Python 3",
      "name": "python3"
    },
    "language_info": {
      "name": "python"
    }
  },
  "nbformat": 4,
  "nbformat_minor": 0
}