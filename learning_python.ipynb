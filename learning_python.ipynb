{
  "nbformat": 4,
  "nbformat_minor": 0,
  "metadata": {
    "colab": {
      "provenance": [],
      "authorship_tag": "ABX9TyO+hopiEirYryPYOBvkLXnv",
      "include_colab_link": true
    },
    "kernelspec": {
      "name": "python3",
      "display_name": "Python 3"
    },
    "language_info": {
      "name": "python"
    }
  },
  "cells": [
    {
      "cell_type": "markdown",
      "metadata": {
        "id": "view-in-github",
        "colab_type": "text"
      },
      "source": [
        "<a href=\"https://colab.research.google.com/github/andazi/Python-Programming-A-Comprehensive-Guide-for-Beginners/blob/main/learning_python.ipynb\" target=\"_parent\"><img src=\"https://colab.research.google.com/assets/colab-badge.svg\" alt=\"Open In Colab\"/></a>"
      ]
    },
    {
      "cell_type": "markdown",
      "source": [
        "\n",
        "#**Python Programming: A Comprehensive Guide for Beginners**\n",
        "---\n",
        "##**PREREQUISITES**\n",
        "\n",
        "- No prior programming experience required.\n",
        "- Basic computer literacy and familiarity with using a text editor.\n",
        "- A strong willingness to learn and practice programming concepts."
      ],
      "metadata": {
        "id": "tcC3uPjcQBoF"
      }
    },
    {
      "cell_type": "markdown",
      "source": [
        "\n",
        "\n",
        "##Table of Contents:\n",
        "###1. Introduction to Python\n",
        "   - Why Python?\n",
        "   - Installing Python\n",
        "   - Running Python Programs\n",
        "\n",
        "###2. Python Basics\n",
        "   - Variables and Data Types\n",
        "   - Operators and Expressions\n",
        "   - Input and Output\n",
        "   - Control Flow (Conditionals and Loops)\n",
        "\n",
        "###3. Functions and Modules\n",
        "   - Defining Functions\n",
        "   - Parameters and Return Values\n",
        "   - Modules and Libraries\n",
        "   - Working with External Libraries\n",
        "\n",
        "###4. Data Structures\n",
        "   - Lists and Tuples\n",
        "   - Dictionaries\n",
        "   - Sets\n",
        "   - Strings and String Manipulation\n",
        "\n",
        "###5. Object-Oriented Programming\n",
        "   - Introduction to OOP\n",
        "   - Classes and Objects\n",
        "   - Inheritance and Polymorphism\n",
        "   - Encapsulation and Abstraction\n",
        "\n",
        "###6. File Handling\n",
        "   - Reading and Writing Files\n",
        "   - CSV and JSON Files\n",
        "   - Exception Handling\n",
        "\n",
        "###7. Advanced Topics\n",
        "   - Regular Expressions\n",
        "   - Lambda Functions\n",
        "   - Decorators\n",
        "   - Generators\n",
        "\n",
        "###8. Introduction to Data Science and Web Development\n",
        "   - Data Science with Python\n",
        "   - Machine Learning\n",
        "   - Web Development Basics with Python\n",
        "\n",
        "###9. Final Project\n",
        "   - Applying Python Skills to a Real-World Project\n",
        "\n",
        "Appendices:\n",
        "   - [Python Syntax Cheat Sheet](https://www.pythoncheatsheet.org/)\n",
        "   - [Additional Resources](https://www.freecodecamp.org)\n",
        "   - Glossary of Key Terms\n",
        "\n",
        "---\n",
        "Guidelines for Teaching:\n",
        "- Emphasize hands-on practice and coding exercises to reinforce learning.\n",
        "- Use real-world examples and practical projects to engage learners.\n",
        "- Encourage experimentation and problem-solving skills.\n",
        "- Provide step-by-step explanations and code walkthroughs.\n",
        "- Use visual aids such as diagrams and flowcharts to illustrate concepts.\n",
        "---\n",
        "Goals:\n",
        "- Understand the basic principles of programming.\n",
        "- Learn Python syntax and core concepts.\n",
        "- Develop problem-solving skills and logical thinking.\n",
        "- Gain proficiency in writing efficient and readable Python code.\n",
        "- Explore advanced topics and applications of Python.\n",
        "---\n",
        "Notes:\n",
        "- Provide additional explanations and clarifications for complex concepts.\n",
        "- Include tips and common pitfalls to watch out for.\n",
        "- Encourage code documentation and best practices.\n",
        "- Offer insights into industry trends and practical use cases for Python.\n",
        "\n",
        "**Prerequisites:**\n",
        "- No prior programming experience required.\n",
        "- Basic computer literacy and familiarity with using a text editor.\n",
        "- A strong willingness to learn and practice programming concepts."
      ],
      "metadata": {
        "id": "jF4yPNJiNGrJ"
      }
    },
    {
      "cell_type": "markdown",
      "source": [
        "#**1. Introduction to Python**\n",
        "---\n",
        "**Why Python?**\n",
        "Python is a popular high level language that offers numerous advantages. It is easy to learn for both children and adults.\n",
        ">*so why in details?*\n",
        "\n",
        "\n",
        "\n",
        "1.   Simplicity and Readability: Python is easy to read and understand. The codes is closer to human speech than any other language.\n",
        "\n",
        "The below code looks easy to understand\n",
        "```\n",
        "print(\"I love Python\")\n",
        "\n",
        "```\n",
        "Result\n",
        "```\n",
        "I love Python\n",
        "```\n",
        "1.   Beginner-Friendly: It is easy for all age groups to understand and begin lifes as a programmer.\n",
        "\n",
        "2.   Versatility: I call python **Jack of all trades** since it can be use in wide range of applications such as data science, machine learning, artificial intelligence, web development and many more.\n",
        "3.   Large Community: Python has a large and active community of developers. so many resources and support for easy coding life.\n",
        "4.   Cross-Platform: Python language can be run on any operating system such as Windows, Linus, Mac and others\n",
        "5.    High Demand and Job Opportunities: This is a language that can be use to do various task and the demand for it is high in the job market. Imagine you automating your daily 9 hours job with just few lines of code or writing a code to predict the stocks values.\n",
        "\n",
        "Overall, python's simplicity, versatility and supportive community make it an excellent choice for programming language to learn or teach since its provides a solid foundation to beginners and empowers learners to explore more.\n",
        "\n",
        "\n",
        "---\n",
        "\n",
        "**Installing Python**\n",
        "\n",
        "- To download Python, you need to visit www.python.org, which is the official Python website.\n",
        "- Download the latest version or a version of your choice based on your system requirement.\n",
        "- Install python\n",
        "---\n",
        "<b>We would be using google colab. You can Watch [Introduction to Colab](https://www.youtube.com/watch?v=inN8seMm7UI) to understand the environment</b>\n",
        "\n",
        "\n",
        "\n",
        "---\n",
        "\n",
        "\n",
        "\n",
        "**Running Python Programs**\n",
        "\n",
        "We would be running python program by running a simple command.\n",
        "\n",
        "Run the codes below.\n",
        "\n"
      ],
      "metadata": {
        "id": "OPg3QxyPSOLX"
      }
    },
    {
      "cell_type": "code",
      "source": [
        "print(\"Hello, World\")"
      ],
      "metadata": {
        "colab": {
          "base_uri": "https://localhost:8080/"
        },
        "id": "J3U7BnJwP-eR",
        "outputId": "9d56827e-05dc-4173-be07-9ac7ee6fda6d"
      },
      "execution_count": 1,
      "outputs": [
        {
          "output_type": "stream",
          "name": "stdout",
          "text": [
            "Hello, World\n"
          ]
        }
      ]
    },
    {
      "cell_type": "markdown",
      "source": [
        "You can be bold and edit some of the codes below and see the results"
      ],
      "metadata": {
        "id": "6NYwrXWmiUW5"
      }
    },
    {
      "cell_type": "code",
      "source": [
        "# change the number 30 to any other age and then run\n",
        "age = 30\n",
        "\n",
        "if age < 13:\n",
        "    print(\"Hello Baby\")\n",
        "elif age < 20:\n",
        "    print(\"Welcome Teenager\")\n",
        "else:\n",
        "    print(\"Hello Adult\")"
      ],
      "metadata": {
        "colab": {
          "base_uri": "https://localhost:8080/"
        },
        "id": "xlI1qqkqh_zg",
        "outputId": "b3358788-fb40-4722-be9f-f04a3f80a164"
      },
      "execution_count": 4,
      "outputs": [
        {
          "output_type": "stream",
          "name": "stdout",
          "text": [
            "Hello Adult\n"
          ]
        }
      ]
    },
    {
      "cell_type": "markdown",
      "source": [
        "###2. Python Basics\n",
        "---\n",
        "\n",
        "**Variables and Data Types**\n",
        "\n",
        "*What are variable?*\n",
        "\n",
        "A variable is a container that can be use to store data or values. They can be use to store different types of data. These variables can then be used later in the program.\n",
        "\n",
        "We use the **=** sign to store values to a variable.\n",
        "\n",
        "For example, you can declare a variable named \"my_name\" and store the value \"Andazi Boboye\" in it:\n",
        "\n",
        "code:\n",
        "```\n",
        "my_name = \"Andazi Boboye\"\n",
        "print(my_name)\n",
        "```\n",
        "result:\n",
        "```\n",
        "Andazi Boboye\n",
        "```\n"
      ],
      "metadata": {
        "id": "ePcAEbubjPe-"
      }
    },
    {
      "cell_type": "code",
      "source": [
        "# we would create a variable called favorite_song and assign it to the string(value) \"Another love by Tom Odell\"\n",
        "# print favorite_song\n",
        "favorite_song = \"Another love by Tom Odell\""
      ],
      "metadata": {
        "id": "3eI0W0RkpvWu"
      },
      "execution_count": null,
      "outputs": []
    },
    {
      "cell_type": "markdown",
      "source": [
        "**EXERCISE**"
      ],
      "metadata": {
        "id": "D3UnwOtRqdSt"
      }
    },
    {
      "cell_type": "code",
      "source": [
        "# edit the cell\n",
        "# declare a variable names birth_year and assign it to value 2000\n",
        "# print birth_year"
      ],
      "metadata": {
        "id": "SYYLJu29pVXQ"
      },
      "execution_count": null,
      "outputs": []
    },
    {
      "cell_type": "code",
      "source": [
        "# edit the cell\n",
        "# declare a variable names current_year and assign it to value 2023\n",
        "# print current_year"
      ],
      "metadata": {
        "id": "IpV5yuxkqm7V"
      },
      "execution_count": null,
      "outputs": []
    },
    {
      "cell_type": "code",
      "source": [
        "# edit the cell\n",
        "# declare a variable names best_course and assign it to value \"Python\"\n",
        "# print birth_year"
      ],
      "metadata": {
        "id": "QQqk0hpzqlpy"
      },
      "execution_count": null,
      "outputs": []
    },
    {
      "cell_type": "markdown",
      "source": [
        "you should have completed the above exercise\n",
        "\n",
        "_Dont worry if it still confusing, I still reply bonjour to any sentence in my French class_"
      ],
      "metadata": {
        "id": "I91nJ1-YrNij"
      }
    },
    {
      "cell_type": "markdown",
      "source": [
        "\n",
        "**Here are some tips for naming variables:**\n",
        "\n",
        "-   Use meaningful names that describe the data that the variable stores. This helps make code more readable and understandable.\n",
        "```\n",
        "# Good variable name\n",
        "name = \"JACK SPARROW\"\n",
        "age = 39\n",
        "is_pirate = True\n",
        "```\n",
        "-   Avoid using special characters or spaces in variable names.\n",
        "```\n",
        "# WRONG VARIABLE NAME\n",
        "first name = \"Andazi Ahmed\"\n",
        "percent% = 100\n",
        "```\n",
        "-   Use underscores to separate words in variable names.\n",
        "```\n",
        "first_name = \"Priya\"\n",
        "last_name = \"Andazi\"\n",
        "student_grades = \"A\"\n",
        "get_access_code = \"23sd89@3SA%$&W\"\n",
        "```\n",
        "-   Start variable names with a lowercase letter.\n",
        "```\n",
        "# wrong case\n",
        "My_name = \"Li Ming\"\n",
        "Age = 23\n",
        "FIRST_NAME = \"Pablo\"\n",
        "```\n",
        "```\n",
        "#correction\n",
        "my_name = \"Li Ming\"\n",
        "age = 23\n",
        "first_name = \"Pablo\"\n",
        "```\n",
        "-    Avoid reserved keywords: A reserved keyword is a word that has a special meaning such as:\n",
        "```\n",
        "and\n",
        "as\n",
        "assert\n",
        "break\n",
        "class\n",
        "continue\n",
        "def\n",
        "del\n",
        "elif\n",
        "else\n",
        "except\n",
        "finally\n",
        "for\n",
        "from\n",
        "global\n",
        "if\n",
        "import\n",
        "in\n",
        "is\n",
        "lambda\n",
        "nonlocal\n",
        "not\n",
        "or\n",
        "pass\n",
        "raise\n",
        "return\n",
        "try\n",
        "while\n",
        "with\n",
        "yield\n",
        "```\n",
        "As we keep coding we would uncover some of them.\n",
        "Dont worry, python would tell you if you are using a reserve keyword or not.\n",
        "\n",
        "Therefore you cant write, You can run the code below to see the errors\n",
        "\n"
      ],
      "metadata": {
        "id": "ba1fXJF_pG0O"
      }
    },
    {
      "cell_type": "code",
      "source": [
        "#reserved keyword\n",
        "yield = 35\n",
        "print(yield)"
      ],
      "metadata": {
        "id": "6iXjpP58ijwF"
      },
      "execution_count": null,
      "outputs": []
    },
    {
      "cell_type": "code",
      "source": [
        "return = 23\n",
        "print(return)"
      ],
      "metadata": {
        "id": "5zPH93kCyR9X"
      },
      "execution_count": null,
      "outputs": []
    },
    {
      "cell_type": "markdown",
      "source": [
        "*Data Types*\n"
      ],
      "metadata": {
        "id": "iC-SjB8wytgo"
      }
    },
    {
      "cell_type": "markdown",
      "source": [
        "---\n",
        "\n",
        "**Operators and Expressions**\n",
        "\n",
        "---\n"
      ],
      "metadata": {
        "id": "ALs0mktmmZys"
      }
    },
    {
      "cell_type": "code",
      "source": [],
      "metadata": {
        "id": "nvVfwxrOmdUJ"
      },
      "execution_count": null,
      "outputs": []
    },
    {
      "cell_type": "markdown",
      "source": [
        "\n",
        "**Input and Output**\n",
        "\n",
        "---\n"
      ],
      "metadata": {
        "id": "dW0ZrHURmdx2"
      }
    },
    {
      "cell_type": "code",
      "source": [],
      "metadata": {
        "id": "qIfHXC5Smf2r"
      },
      "execution_count": null,
      "outputs": []
    },
    {
      "cell_type": "markdown",
      "source": [
        "\n",
        "**Control Flow (Conditionals and Loops)**"
      ],
      "metadata": {
        "id": "yx9CPi5ImgOp"
      }
    }
  ]
}